{
 "cells": [
  {
   "cell_type": "markdown",
   "metadata": {},
   "source": [
    "<b>¡Hola Christian!</b>\n",
    "\n",
    "Mi nombre es Alejandro Abia y tengo el gusto de revisar tu proyecto.\n",
    "\n",
    "A continuación, encontrarás mis comentarios en celdas pintadas de tres colores (verde, amarillo y rojo), a manera de semáforo. Por favor, <b>no las borres ni muevas de posición</b> mientras dure el proceso de revisión.\n",
    "\n",
    "<div class=\"alert alert-block alert-success\">\n",
    "<b>Éxito</b> <a class=\"tocSkip\"></a>\n",
    "En celdas verdes encontrarás comentarios en relación a tus aciertos y fortalezas.\n",
    "</div>\n",
    "<div class=\"alert alert-block alert-warning\">\n",
    "<b>Atención</b> <a class=\"tocSkip\"></a>\n",
    "Utilizaré el color amarillo para llamar tu atención, expresar algo importante o compartirte alguna idea de valor.\n",
    "</div>\n",
    "<div class=\"alert alert-block alert-danger\">\n",
    "<b>A resolver</b> <a class=\"tocSkip\"></a>\n",
    "En rojo emitiré aquellos puntos que podrían impedir que el proyecto se ejecute correctamente. No son errores, sino oportunidades importantes de mejora.\n",
    "</div>\n",
    "<div class=\"alert alert-block alert-info\">\n",
    "<b>Comentario estudiante</b> <a class=\"tocSkip\"></a>\n",
    "Si durante la revisión deseas dejarme algún comentario, por favor utiliza celdas azules como esta.\n",
    "</div>\n",
    "Tu proyecto será considerado aprobado cuando las observaciones en rojo hayan sido atendidas.  \n",
    "¡Empecemos!\n"
   ]
  },
  {
   "cell_type": "code",
   "execution_count": 1,
   "metadata": {},
   "outputs": [],
   "source": [
    "import numpy as np\n",
    "import pandas as pd\n",
    "import matplotlib.pyplot as plt\n",
    "from scipy.stats import ks_2samp\n",
    "from sklearn.ensemble import RandomForestRegressor\n",
    "from sklearn.linear_model import LinearRegression\n",
    "from sklearn.metrics import mean_absolute_error, mean_squared_error, r2_score\n",
    "from sklearn.model_selection import cross_val_score, TimeSeriesSplit"
   ]
  },
  {
   "cell_type": "code",
   "execution_count": 2,
   "metadata": {},
   "outputs": [],
   "source": [
    "df_train = pd.read_csv('/datasets/gold_recovery_train.csv')\n",
    "df_test  = pd.read_csv('/datasets/gold_recovery_test.csv')\n",
    "df_recov = pd.read_csv('/datasets/gold_recovery_full.csv')"
   ]
  },
  {
   "cell_type": "code",
   "execution_count": 3,
   "metadata": {},
   "outputs": [
    {
     "name": "stdout",
     "output_type": "stream",
     "text": [
      "<class 'pandas.core.frame.DataFrame'>\n",
      "RangeIndex: 16860 entries, 0 to 16859\n",
      "Data columns (total 87 columns):\n",
      " #   Column                                              Non-Null Count  Dtype  \n",
      "---  ------                                              --------------  -----  \n",
      " 0   date                                                16860 non-null  object \n",
      " 1   final.output.concentrate_ag                         16788 non-null  float64\n",
      " 2   final.output.concentrate_pb                         16788 non-null  float64\n",
      " 3   final.output.concentrate_sol                        16490 non-null  float64\n",
      " 4   final.output.concentrate_au                         16789 non-null  float64\n",
      " 5   final.output.recovery                               15339 non-null  float64\n",
      " 6   final.output.tail_ag                                16794 non-null  float64\n",
      " 7   final.output.tail_pb                                16677 non-null  float64\n",
      " 8   final.output.tail_sol                               16715 non-null  float64\n",
      " 9   final.output.tail_au                                16794 non-null  float64\n",
      " 10  primary_cleaner.input.sulfate                       15553 non-null  float64\n",
      " 11  primary_cleaner.input.depressant                    15598 non-null  float64\n",
      " 12  primary_cleaner.input.feed_size                     16860 non-null  float64\n",
      " 13  primary_cleaner.input.xanthate                      15875 non-null  float64\n",
      " 14  primary_cleaner.output.concentrate_ag               16778 non-null  float64\n",
      " 15  primary_cleaner.output.concentrate_pb               16502 non-null  float64\n",
      " 16  primary_cleaner.output.concentrate_sol              16224 non-null  float64\n",
      " 17  primary_cleaner.output.concentrate_au               16778 non-null  float64\n",
      " 18  primary_cleaner.output.tail_ag                      16777 non-null  float64\n",
      " 19  primary_cleaner.output.tail_pb                      16761 non-null  float64\n",
      " 20  primary_cleaner.output.tail_sol                     16579 non-null  float64\n",
      " 21  primary_cleaner.output.tail_au                      16777 non-null  float64\n",
      " 22  primary_cleaner.state.floatbank8_a_air              16820 non-null  float64\n",
      " 23  primary_cleaner.state.floatbank8_a_level            16827 non-null  float64\n",
      " 24  primary_cleaner.state.floatbank8_b_air              16820 non-null  float64\n",
      " 25  primary_cleaner.state.floatbank8_b_level            16833 non-null  float64\n",
      " 26  primary_cleaner.state.floatbank8_c_air              16822 non-null  float64\n",
      " 27  primary_cleaner.state.floatbank8_c_level            16833 non-null  float64\n",
      " 28  primary_cleaner.state.floatbank8_d_air              16821 non-null  float64\n",
      " 29  primary_cleaner.state.floatbank8_d_level            16833 non-null  float64\n",
      " 30  rougher.calculation.sulfate_to_au_concentrate       16833 non-null  float64\n",
      " 31  rougher.calculation.floatbank10_sulfate_to_au_feed  16833 non-null  float64\n",
      " 32  rougher.calculation.floatbank11_sulfate_to_au_feed  16833 non-null  float64\n",
      " 33  rougher.calculation.au_pb_ratio                     15618 non-null  float64\n",
      " 34  rougher.input.feed_ag                               16778 non-null  float64\n",
      " 35  rougher.input.feed_pb                               16632 non-null  float64\n",
      " 36  rougher.input.feed_rate                             16347 non-null  float64\n",
      " 37  rougher.input.feed_size                             16443 non-null  float64\n",
      " 38  rougher.input.feed_sol                              16568 non-null  float64\n",
      " 39  rougher.input.feed_au                               16777 non-null  float64\n",
      " 40  rougher.input.floatbank10_sulfate                   15816 non-null  float64\n",
      " 41  rougher.input.floatbank10_xanthate                  16514 non-null  float64\n",
      " 42  rougher.input.floatbank11_sulfate                   16237 non-null  float64\n",
      " 43  rougher.input.floatbank11_xanthate                  14956 non-null  float64\n",
      " 44  rougher.output.concentrate_ag                       16778 non-null  float64\n",
      " 45  rougher.output.concentrate_pb                       16778 non-null  float64\n",
      " 46  rougher.output.concentrate_sol                      16698 non-null  float64\n",
      " 47  rougher.output.concentrate_au                       16778 non-null  float64\n",
      " 48  rougher.output.recovery                             14287 non-null  float64\n",
      " 49  rougher.output.tail_ag                              14610 non-null  float64\n",
      " 50  rougher.output.tail_pb                              16778 non-null  float64\n",
      " 51  rougher.output.tail_sol                             14611 non-null  float64\n",
      " 52  rougher.output.tail_au                              14611 non-null  float64\n",
      " 53  rougher.state.floatbank10_a_air                     16807 non-null  float64\n",
      " 54  rougher.state.floatbank10_a_level                   16807 non-null  float64\n",
      " 55  rougher.state.floatbank10_b_air                     16807 non-null  float64\n",
      " 56  rougher.state.floatbank10_b_level                   16807 non-null  float64\n",
      " 57  rougher.state.floatbank10_c_air                     16807 non-null  float64\n",
      " 58  rougher.state.floatbank10_c_level                   16814 non-null  float64\n",
      " 59  rougher.state.floatbank10_d_air                     16802 non-null  float64\n",
      " 60  rougher.state.floatbank10_d_level                   16809 non-null  float64\n",
      " 61  rougher.state.floatbank10_e_air                     16257 non-null  float64\n",
      " 62  rougher.state.floatbank10_e_level                   16809 non-null  float64\n",
      " 63  rougher.state.floatbank10_f_air                     16802 non-null  float64\n",
      " 64  rougher.state.floatbank10_f_level                   16802 non-null  float64\n",
      " 65  secondary_cleaner.output.tail_ag                    16776 non-null  float64\n",
      " 66  secondary_cleaner.output.tail_pb                    16764 non-null  float64\n",
      " 67  secondary_cleaner.output.tail_sol                   14874 non-null  float64\n",
      " 68  secondary_cleaner.output.tail_au                    16778 non-null  float64\n",
      " 69  secondary_cleaner.state.floatbank2_a_air            16497 non-null  float64\n",
      " 70  secondary_cleaner.state.floatbank2_a_level          16751 non-null  float64\n",
      " 71  secondary_cleaner.state.floatbank2_b_air            16705 non-null  float64\n",
      " 72  secondary_cleaner.state.floatbank2_b_level          16748 non-null  float64\n",
      " 73  secondary_cleaner.state.floatbank3_a_air            16763 non-null  float64\n",
      " 74  secondary_cleaner.state.floatbank3_a_level          16747 non-null  float64\n",
      " 75  secondary_cleaner.state.floatbank3_b_air            16752 non-null  float64\n",
      " 76  secondary_cleaner.state.floatbank3_b_level          16750 non-null  float64\n",
      " 77  secondary_cleaner.state.floatbank4_a_air            16731 non-null  float64\n",
      " 78  secondary_cleaner.state.floatbank4_a_level          16747 non-null  float64\n",
      " 79  secondary_cleaner.state.floatbank4_b_air            16768 non-null  float64\n",
      " 80  secondary_cleaner.state.floatbank4_b_level          16767 non-null  float64\n",
      " 81  secondary_cleaner.state.floatbank5_a_air            16775 non-null  float64\n",
      " 82  secondary_cleaner.state.floatbank5_a_level          16775 non-null  float64\n",
      " 83  secondary_cleaner.state.floatbank5_b_air            16775 non-null  float64\n",
      " 84  secondary_cleaner.state.floatbank5_b_level          16776 non-null  float64\n",
      " 85  secondary_cleaner.state.floatbank6_a_air            16757 non-null  float64\n",
      " 86  secondary_cleaner.state.floatbank6_a_level          16775 non-null  float64\n",
      "dtypes: float64(86), object(1)\n",
      "memory usage: 11.2+ MB\n"
     ]
    }
   ],
   "source": [
    "df_train.info()"
   ]
  },
  {
   "cell_type": "markdown",
   "metadata": {},
   "source": [
    "<div class=\"alert alert-block alert-success\">\n",
    "<b>Celda [3]</b> <a class=\"tocSkip\"></a><br>\n",
    "Has hecho un excelente uso del método `info()` para obtener una visión general de tu dataset de entrenamiento. Esto es crucial para identificar valores nulos y comprender los tipos de datos presentes, lo que es fundamental para el análisis posterior.\n",
    "</div>\n"
   ]
  },
  {
   "cell_type": "code",
   "execution_count": 4,
   "metadata": {},
   "outputs": [
    {
     "name": "stdout",
     "output_type": "stream",
     "text": [
      "<class 'pandas.core.frame.DataFrame'>\n",
      "RangeIndex: 5856 entries, 0 to 5855\n",
      "Data columns (total 53 columns):\n",
      " #   Column                                      Non-Null Count  Dtype  \n",
      "---  ------                                      --------------  -----  \n",
      " 0   date                                        5856 non-null   object \n",
      " 1   primary_cleaner.input.sulfate               5554 non-null   float64\n",
      " 2   primary_cleaner.input.depressant            5572 non-null   float64\n",
      " 3   primary_cleaner.input.feed_size             5856 non-null   float64\n",
      " 4   primary_cleaner.input.xanthate              5690 non-null   float64\n",
      " 5   primary_cleaner.state.floatbank8_a_air      5840 non-null   float64\n",
      " 6   primary_cleaner.state.floatbank8_a_level    5840 non-null   float64\n",
      " 7   primary_cleaner.state.floatbank8_b_air      5840 non-null   float64\n",
      " 8   primary_cleaner.state.floatbank8_b_level    5840 non-null   float64\n",
      " 9   primary_cleaner.state.floatbank8_c_air      5840 non-null   float64\n",
      " 10  primary_cleaner.state.floatbank8_c_level    5840 non-null   float64\n",
      " 11  primary_cleaner.state.floatbank8_d_air      5840 non-null   float64\n",
      " 12  primary_cleaner.state.floatbank8_d_level    5840 non-null   float64\n",
      " 13  rougher.input.feed_ag                       5840 non-null   float64\n",
      " 14  rougher.input.feed_pb                       5840 non-null   float64\n",
      " 15  rougher.input.feed_rate                     5816 non-null   float64\n",
      " 16  rougher.input.feed_size                     5834 non-null   float64\n",
      " 17  rougher.input.feed_sol                      5789 non-null   float64\n",
      " 18  rougher.input.feed_au                       5840 non-null   float64\n",
      " 19  rougher.input.floatbank10_sulfate           5599 non-null   float64\n",
      " 20  rougher.input.floatbank10_xanthate          5733 non-null   float64\n",
      " 21  rougher.input.floatbank11_sulfate           5801 non-null   float64\n",
      " 22  rougher.input.floatbank11_xanthate          5503 non-null   float64\n",
      " 23  rougher.state.floatbank10_a_air             5839 non-null   float64\n",
      " 24  rougher.state.floatbank10_a_level           5840 non-null   float64\n",
      " 25  rougher.state.floatbank10_b_air             5839 non-null   float64\n",
      " 26  rougher.state.floatbank10_b_level           5840 non-null   float64\n",
      " 27  rougher.state.floatbank10_c_air             5839 non-null   float64\n",
      " 28  rougher.state.floatbank10_c_level           5840 non-null   float64\n",
      " 29  rougher.state.floatbank10_d_air             5839 non-null   float64\n",
      " 30  rougher.state.floatbank10_d_level           5840 non-null   float64\n",
      " 31  rougher.state.floatbank10_e_air             5839 non-null   float64\n",
      " 32  rougher.state.floatbank10_e_level           5840 non-null   float64\n",
      " 33  rougher.state.floatbank10_f_air             5839 non-null   float64\n",
      " 34  rougher.state.floatbank10_f_level           5840 non-null   float64\n",
      " 35  secondary_cleaner.state.floatbank2_a_air    5836 non-null   float64\n",
      " 36  secondary_cleaner.state.floatbank2_a_level  5840 non-null   float64\n",
      " 37  secondary_cleaner.state.floatbank2_b_air    5833 non-null   float64\n",
      " 38  secondary_cleaner.state.floatbank2_b_level  5840 non-null   float64\n",
      " 39  secondary_cleaner.state.floatbank3_a_air    5822 non-null   float64\n",
      " 40  secondary_cleaner.state.floatbank3_a_level  5840 non-null   float64\n",
      " 41  secondary_cleaner.state.floatbank3_b_air    5840 non-null   float64\n",
      " 42  secondary_cleaner.state.floatbank3_b_level  5840 non-null   float64\n",
      " 43  secondary_cleaner.state.floatbank4_a_air    5840 non-null   float64\n",
      " 44  secondary_cleaner.state.floatbank4_a_level  5840 non-null   float64\n",
      " 45  secondary_cleaner.state.floatbank4_b_air    5840 non-null   float64\n",
      " 46  secondary_cleaner.state.floatbank4_b_level  5840 non-null   float64\n",
      " 47  secondary_cleaner.state.floatbank5_a_air    5840 non-null   float64\n",
      " 48  secondary_cleaner.state.floatbank5_a_level  5840 non-null   float64\n",
      " 49  secondary_cleaner.state.floatbank5_b_air    5840 non-null   float64\n",
      " 50  secondary_cleaner.state.floatbank5_b_level  5840 non-null   float64\n",
      " 51  secondary_cleaner.state.floatbank6_a_air    5840 non-null   float64\n",
      " 52  secondary_cleaner.state.floatbank6_a_level  5840 non-null   float64\n",
      "dtypes: float64(52), object(1)\n",
      "memory usage: 2.4+ MB\n"
     ]
    }
   ],
   "source": [
    "df_test.info()"
   ]
  },
  {
   "cell_type": "code",
   "execution_count": 5,
   "metadata": {},
   "outputs": [
    {
     "name": "stdout",
     "output_type": "stream",
     "text": [
      "<class 'pandas.core.frame.DataFrame'>\n",
      "RangeIndex: 22716 entries, 0 to 22715\n",
      "Data columns (total 87 columns):\n",
      " #   Column                                              Non-Null Count  Dtype  \n",
      "---  ------                                              --------------  -----  \n",
      " 0   date                                                22716 non-null  object \n",
      " 1   final.output.concentrate_ag                         22627 non-null  float64\n",
      " 2   final.output.concentrate_pb                         22629 non-null  float64\n",
      " 3   final.output.concentrate_sol                        22331 non-null  float64\n",
      " 4   final.output.concentrate_au                         22630 non-null  float64\n",
      " 5   final.output.recovery                               20753 non-null  float64\n",
      " 6   final.output.tail_ag                                22633 non-null  float64\n",
      " 7   final.output.tail_pb                                22516 non-null  float64\n",
      " 8   final.output.tail_sol                               22445 non-null  float64\n",
      " 9   final.output.tail_au                                22635 non-null  float64\n",
      " 10  primary_cleaner.input.sulfate                       21107 non-null  float64\n",
      " 11  primary_cleaner.input.depressant                    21170 non-null  float64\n",
      " 12  primary_cleaner.input.feed_size                     22716 non-null  float64\n",
      " 13  primary_cleaner.input.xanthate                      21565 non-null  float64\n",
      " 14  primary_cleaner.output.concentrate_ag               22618 non-null  float64\n",
      " 15  primary_cleaner.output.concentrate_pb               22268 non-null  float64\n",
      " 16  primary_cleaner.output.concentrate_sol              21918 non-null  float64\n",
      " 17  primary_cleaner.output.concentrate_au               22618 non-null  float64\n",
      " 18  primary_cleaner.output.tail_ag                      22614 non-null  float64\n",
      " 19  primary_cleaner.output.tail_pb                      22594 non-null  float64\n",
      " 20  primary_cleaner.output.tail_sol                     22365 non-null  float64\n",
      " 21  primary_cleaner.output.tail_au                      22617 non-null  float64\n",
      " 22  primary_cleaner.state.floatbank8_a_air              22660 non-null  float64\n",
      " 23  primary_cleaner.state.floatbank8_a_level            22667 non-null  float64\n",
      " 24  primary_cleaner.state.floatbank8_b_air              22660 non-null  float64\n",
      " 25  primary_cleaner.state.floatbank8_b_level            22673 non-null  float64\n",
      " 26  primary_cleaner.state.floatbank8_c_air              22662 non-null  float64\n",
      " 27  primary_cleaner.state.floatbank8_c_level            22673 non-null  float64\n",
      " 28  primary_cleaner.state.floatbank8_d_air              22661 non-null  float64\n",
      " 29  primary_cleaner.state.floatbank8_d_level            22673 non-null  float64\n",
      " 30  rougher.calculation.sulfate_to_au_concentrate       22672 non-null  float64\n",
      " 31  rougher.calculation.floatbank10_sulfate_to_au_feed  22672 non-null  float64\n",
      " 32  rougher.calculation.floatbank11_sulfate_to_au_feed  22672 non-null  float64\n",
      " 33  rougher.calculation.au_pb_ratio                     21089 non-null  float64\n",
      " 34  rougher.input.feed_ag                               22618 non-null  float64\n",
      " 35  rougher.input.feed_pb                               22472 non-null  float64\n",
      " 36  rougher.input.feed_rate                             22163 non-null  float64\n",
      " 37  rougher.input.feed_size                             22277 non-null  float64\n",
      " 38  rougher.input.feed_sol                              22357 non-null  float64\n",
      " 39  rougher.input.feed_au                               22617 non-null  float64\n",
      " 40  rougher.input.floatbank10_sulfate                   21415 non-null  float64\n",
      " 41  rougher.input.floatbank10_xanthate                  22247 non-null  float64\n",
      " 42  rougher.input.floatbank11_sulfate                   22038 non-null  float64\n",
      " 43  rougher.input.floatbank11_xanthate                  20459 non-null  float64\n",
      " 44  rougher.output.concentrate_ag                       22618 non-null  float64\n",
      " 45  rougher.output.concentrate_pb                       22618 non-null  float64\n",
      " 46  rougher.output.concentrate_sol                      22526 non-null  float64\n",
      " 47  rougher.output.concentrate_au                       22618 non-null  float64\n",
      " 48  rougher.output.recovery                             19597 non-null  float64\n",
      " 49  rougher.output.tail_ag                              19979 non-null  float64\n",
      " 50  rougher.output.tail_pb                              22618 non-null  float64\n",
      " 51  rougher.output.tail_sol                             19980 non-null  float64\n",
      " 52  rougher.output.tail_au                              19980 non-null  float64\n",
      " 53  rougher.state.floatbank10_a_air                     22646 non-null  float64\n",
      " 54  rougher.state.floatbank10_a_level                   22647 non-null  float64\n",
      " 55  rougher.state.floatbank10_b_air                     22646 non-null  float64\n",
      " 56  rougher.state.floatbank10_b_level                   22647 non-null  float64\n",
      " 57  rougher.state.floatbank10_c_air                     22646 non-null  float64\n",
      " 58  rougher.state.floatbank10_c_level                   22654 non-null  float64\n",
      " 59  rougher.state.floatbank10_d_air                     22641 non-null  float64\n",
      " 60  rougher.state.floatbank10_d_level                   22649 non-null  float64\n",
      " 61  rougher.state.floatbank10_e_air                     22096 non-null  float64\n",
      " 62  rougher.state.floatbank10_e_level                   22649 non-null  float64\n",
      " 63  rougher.state.floatbank10_f_air                     22641 non-null  float64\n",
      " 64  rougher.state.floatbank10_f_level                   22642 non-null  float64\n",
      " 65  secondary_cleaner.output.tail_ag                    22616 non-null  float64\n",
      " 66  secondary_cleaner.output.tail_pb                    22600 non-null  float64\n",
      " 67  secondary_cleaner.output.tail_sol                   20501 non-null  float64\n",
      " 68  secondary_cleaner.output.tail_au                    22618 non-null  float64\n",
      " 69  secondary_cleaner.state.floatbank2_a_air            22333 non-null  float64\n",
      " 70  secondary_cleaner.state.floatbank2_a_level          22591 non-null  float64\n",
      " 71  secondary_cleaner.state.floatbank2_b_air            22538 non-null  float64\n",
      " 72  secondary_cleaner.state.floatbank2_b_level          22588 non-null  float64\n",
      " 73  secondary_cleaner.state.floatbank3_a_air            22585 non-null  float64\n",
      " 74  secondary_cleaner.state.floatbank3_a_level          22587 non-null  float64\n",
      " 75  secondary_cleaner.state.floatbank3_b_air            22592 non-null  float64\n",
      " 76  secondary_cleaner.state.floatbank3_b_level          22590 non-null  float64\n",
      " 77  secondary_cleaner.state.floatbank4_a_air            22571 non-null  float64\n",
      " 78  secondary_cleaner.state.floatbank4_a_level          22587 non-null  float64\n",
      " 79  secondary_cleaner.state.floatbank4_b_air            22608 non-null  float64\n",
      " 80  secondary_cleaner.state.floatbank4_b_level          22607 non-null  float64\n",
      " 81  secondary_cleaner.state.floatbank5_a_air            22615 non-null  float64\n",
      " 82  secondary_cleaner.state.floatbank5_a_level          22615 non-null  float64\n",
      " 83  secondary_cleaner.state.floatbank5_b_air            22615 non-null  float64\n",
      " 84  secondary_cleaner.state.floatbank5_b_level          22616 non-null  float64\n",
      " 85  secondary_cleaner.state.floatbank6_a_air            22597 non-null  float64\n",
      " 86  secondary_cleaner.state.floatbank6_a_level          22615 non-null  float64\n",
      "dtypes: float64(86), object(1)\n",
      "memory usage: 15.1+ MB\n"
     ]
    }
   ],
   "source": [
    "df_recov.info()"
   ]
  },
  {
   "cell_type": "markdown",
   "metadata": {},
   "source": [
    "<div class=\"alert alert-block alert-warning\">\n",
    "<b>Celda [5]</b> <a class=\"tocSkip\"></a><br>\n",
    "Has realizado un buen trabajo al cargar y explorar los datasets. Considera incluir una verificación de duplicados en tus datos para asegurar que no haya registros repetidos que puedan afectar el análisis posterior. Puedes utilizar el método `df.duplicated().sum()` para verificar la cantidad de duplicados.\n",
    "</div>\n"
   ]
  },
  {
   "cell_type": "code",
   "execution_count": 6,
   "metadata": {},
   "outputs": [],
   "source": [
    "def calc_recovery(C, F, T):\n",
    "    return (C * (F - T)) / (F * (C - T)) * 100"
   ]
  },
  {
   "cell_type": "code",
   "execution_count": 7,
   "metadata": {},
   "outputs": [
    {
     "name": "stdout",
     "output_type": "stream",
     "text": [
      "\n",
      "CONCENTRACIÓN PROMEDIO DE METALES POR ETAPA\n",
      "\n",
      "AU:\n",
      "  rougher.input.feed_au: 7.1707\n",
      "  rougher.output.concentrate_au: 17.4015\n",
      "  rougher.output.tail_au: 1.7639\n",
      "\n",
      "AG:\n",
      "  rougher.input.feed_ag: 7.8323\n",
      "  rougher.output.concentrate_ag: 10.5805\n",
      "  rougher.output.tail_ag: 5.5666\n",
      "\n",
      "PB:\n",
      "  rougher.input.feed_pb: 3.2189\n",
      "  rougher.output.concentrate_pb: 6.8803\n",
      "  rougher.output.tail_pb: 0.5965\n"
     ]
    }
   ],
   "source": [
    "metals = ['au', 'ag', 'pb']\n",
    "stages = ['input.feed_', 'output.concentrate_', 'output.tail_']\n",
    "\n",
    "print(\"\\nCONCENTRACIÓN PROMEDIO DE METALES POR ETAPA\")\n",
    "for metal in metals:\n",
    "    print(f\"\\n{metal.upper()}:\")\n",
    "    for stage in stages:\n",
    "        col = f'rougher.{stage}{metal}'\n",
    "        if col in df_train.columns:\n",
    "            avg = df_train[col].mean()\n",
    "            print(f\"  {col}: {avg:.4f}\")"
   ]
  },
  {
   "cell_type": "markdown",
   "metadata": {},
   "source": [
    "<div class=\"alert alert-block alert-success\">\n",
    "<b>Celda [7]</b> <a class=\"tocSkip\"></a><br>\n",
    "Has calculado y mostrado correctamente la concentración promedio de metales en diferentes etapas del proceso. Esto proporciona una comprensión clara de cómo cambian las concentraciones a lo largo del proceso de recuperación, lo cual es esencial para el análisis del flujo del proceso.\n",
    "</div>\n"
   ]
  },
  {
   "cell_type": "code",
   "execution_count": 8,
   "metadata": {},
   "outputs": [
    {
     "ename": "NameError",
     "evalue": "name 'rougher_calc' is not defined",
     "output_type": "error",
     "traceback": [
      "\u001b[0;31m---------------------------------------------------------------------------\u001b[0m",
      "\u001b[0;31mNameError\u001b[0m                                 Traceback (most recent call last)",
      "Cell \u001b[0;32mIn[8], line 1\u001b[0m\n\u001b[0;32m----> 1\u001b[0m diff \u001b[38;5;241m=\u001b[39m (\u001b[43mrougher_calc\u001b[49m \u001b[38;5;241m-\u001b[39m df_train[\u001b[38;5;124m'\u001b[39m\u001b[38;5;124mrougher.output.recovery\u001b[39m\u001b[38;5;124m'\u001b[39m])\u001b[38;5;241m.\u001b[39mabs()\n\u001b[1;32m      2\u001b[0m \u001b[38;5;28mprint\u001b[39m(\u001b[38;5;124m\"\u001b[39m\u001b[38;5;124mEAM (Error Absoluto Medio):\u001b[39m\u001b[38;5;124m\"\u001b[39m, diff\u001b[38;5;241m.\u001b[39mmean())\n\u001b[1;32m      3\u001b[0m \u001b[38;5;28mprint\u001b[39m(\u001b[38;5;124m\"\u001b[39m\u001b[38;5;124mEAM (mediana):\u001b[39m\u001b[38;5;124m\"\u001b[39m, diff\u001b[38;5;241m.\u001b[39mmedian())\n",
      "\u001b[0;31mNameError\u001b[0m: name 'rougher_calc' is not defined"
     ]
    }
   ],
   "source": [
    "diff = (rougher_calc - df_train['rougher.output.recovery']).abs()\n",
    "print(\"EAM (Error Absoluto Medio):\", diff.mean())\n",
    "print(\"EAM (mediana):\", diff.median())\n",
    "print(\"Proporción de nulos en cálculo:\", rougher_calc.isna().mean())"
   ]
  },
  {
   "cell_type": "code",
   "execution_count": 9,
   "metadata": {},
   "outputs": [
    {
     "name": "stdout",
     "output_type": "stream",
     "text": [
      "KS statistic: 0.1923, p-value: 0.0000\n"
     ]
    },
    {
     "data": {
      "image/png": "[encoded data removed]",
      "text/plain": [
       "<Figure size 1000x500 with 1 Axes>"
      ]
     },
     "metadata": {},
     "output_type": "display_data"
    }
   ],
   "source": [
    "train_size = df_train[\"rougher.input.feed_size\"].dropna()\n",
    "test_size  = df_test[\"rougher.input.feed_size\"].dropna()\n",
    "\n",
    "ks_stat, p_value = ks_2samp(train_size, test_size)\n",
    "print(f\"KS statistic: {ks_stat:.4f}, p-value: {p_value:.4f}\")\n",
    "\n",
    "plt.figure(figsize=(10,5))\n",
    "plt.hist(train_size, bins=50, alpha=0.5, label=\"Train\")\n",
    "plt.hist(test_size, bins=50, alpha=0.5, label=\"Test\")\n",
    "plt.xlabel(\"Feed size\")\n",
    "plt.ylabel(\"Frecuencia\")\n",
    "plt.legend()\n",
    "plt.title(\"Distribución de feed_size en Train vs Test\")\n",
    "plt.show()"
   ]
  },
  {
   "cell_type": "markdown",
   "metadata": {},
   "source": [
    "<div class=\"alert alert-block alert-warning\">\n",
    "<b>Celda [9]</b> <a class=\"tocSkip\"></a><br>\n",
    "La prueba de Kolmogorov-Smirnov que has realizado es adecuada para comparar las distribuciones de `feed_size` entre los conjuntos de entrenamiento y prueba. El p-valor bajo indica que las distribuciones son significativamente diferentes. Investiga las posibles causas de esta diferencia y cómo podría afectar a los modelos.\n",
    "</div>\n"
   ]
  },
  {
   "cell_type": "code",
   "execution_count": 10,
   "metadata": {},
   "outputs": [],
   "source": [
    "df_train.replace([np.inf, -np.inf], np.nan, inplace=True)\n",
    "df_test.replace([np.inf, -np.inf], np.nan, inplace=True)\n",
    "\n",
    "# Llenar NaNs con mediana de cada columna\n",
    "df_train.fillna(df_train.median(), inplace=True)\n",
    "df_test.fillna(df_train.median(), inplace=True)"
   ]
  },
  {
   "cell_type": "markdown",
   "metadata": {},
   "source": [
    "<div class=\"alert alert-block alert-warning\">\n",
    "<b>Celda [10]</b> <a class=\"tocSkip\"></a><br>\n",
    "Has manejado correctamente los valores infinitos reemplazándolos por NaN y luego llenando los valores faltantes con la mediana. Ten cuidado al usar la mediana del conjunto de entrenamiento para llenar los valores faltantes en el conjunto de prueba, ya que esto podría introducir sesgos. Considera calcular la mediana del conjunto de prueba por separado para evitar este problema.\n",
    "</div>\n"
   ]
  },
  {
   "cell_type": "code",
   "execution_count": 11,
   "metadata": {},
   "outputs": [],
   "source": [
    "def smape(y_true, y_pred):\n",
    "    denominator = np.abs(y_true) + np.abs(y_pred)\n",
    "    denominator = np.where(denominator == 0, 1e-10, denominator)\n",
    "    return np.mean(2 * np.abs(y_pred - y_true) / denominator) * 100\n",
    "\n",
    "def final_smape(y_true_rougher, y_pred_rougher, y_true_final, y_pred_final):\n",
    "    smape_rougher = smape(y_true_rougher, y_pred_rougher)\n",
    "    smape_final = smape(y_true_final, y_pred_final)\n",
    "    return 0.25 * smape_rougher + 0.75 * smape_final"
   ]
  },
  {
   "cell_type": "code",
   "execution_count": 12,
   "metadata": {},
   "outputs": [],
   "source": [
    "target_col_final = 'final.output.recovery'\n",
    "target_col_rougher = 'rougher.output.recovery'\n",
    "\n",
    "# Solo columnas numéricas y que existan en test (inputs y estados)\n",
    "feature_cols = [col for col in df_train.columns if \n",
    "                ((\"input\" in col) or (\"state\" in col)) and \n",
    "                col not in [target_col_final, target_col_rougher]]\n",
    "\n",
    "X_train = df_train[feature_cols].copy()\n",
    "y_train_final = df_train[target_col_final]\n",
    "y_train_rougher = df_train[target_col_rougher]\n",
    "\n",
    "X_test  = df_test[feature_cols].copy()"
   ]
  },
  {
   "cell_type": "markdown",
   "metadata": {},
   "source": [
    "<div class=\"alert alert-block alert-success\">\n",
    "<b>Celda [12]</b> <a class=\"tocSkip\"></a><br>\n",
    "Has realizado una excelente selección de características al enfocarte en columnas que contienen 'input' y 'state', excluyendo las columnas objetivo. Esto es crucial para evitar data leakage y asegurar que el modelo no esté entrenado con información futura, lo que podría sesgar los resultados.\n",
    "</div>\n"
   ]
  },
  {
   "cell_type": "code",
   "execution_count": 13,
   "metadata": {},
   "outputs": [
    {
     "name": "stdout",
     "output_type": "stream",
     "text": [
      "\n",
      "Entrenando Random Forest para final.output.recovery\n"
     ]
    }
   ],
   "source": [
    "# Entrenar Random Forest para FINAL\n",
    "print(\"\\nEntrenando Random Forest para final.output.recovery\")\n",
    "rf_model_final = RandomForestRegressor(\n",
    "    n_estimators=200,\n",
    "    max_depth=12,\n",
    "    random_state=42,\n",
    "    n_jobs=-1\n",
    ")\n",
    "rf_model_final.fit(X_train, y_train_final)\n",
    "y_pred_train_rf_final = rf_model_final.predict(X_train)"
   ]
  },
  {
   "cell_type": "markdown",
   "metadata": {},
   "source": [
    "<div class=\"alert alert-block alert-success\">\n",
    "<b>Celda [13]</b> <a class=\"tocSkip\"></a><br>\n",
    "El uso de un modelo de Random Forest para predecir `final.output.recovery` está bien fundamentado. Este modelo es robusto y maneja bien las características no lineales y las interacciones entre variables, lo que es ideal para el tipo de datos con los que estás trabajando.\n",
    "</div>\n"
   ]
  },
  {
   "cell_type": "code",
   "execution_count": 14,
   "metadata": {},
   "outputs": [
    {
     "name": "stdout",
     "output_type": "stream",
     "text": [
      "Entrenando Random Forest para rougher.output.recovery\n"
     ]
    }
   ],
   "source": [
    "# Entrenar Random Forest para ROUGHER\n",
    "print(\"Entrenando Random Forest para rougher.output.recovery\")\n",
    "rf_model_rougher = RandomForestRegressor(\n",
    "    n_estimators=200,\n",
    "    max_depth=12,\n",
    "    random_state=42,\n",
    "    n_jobs=-1\n",
    ")\n",
    "rf_model_rougher.fit(X_train, y_train_rougher)\n",
    "y_pred_train_rf_rougher = rf_model_rougher.predict(X_train)"
   ]
  },
  {
   "cell_type": "code",
   "execution_count": 15,
   "metadata": {},
   "outputs": [
    {
     "name": "stdout",
     "output_type": "stream",
     "text": [
      "\n",
      "Entrenando Linear Regression para final.output.recovery...\n"
     ]
    }
   ],
   "source": [
    "# Entrenar Linear Regression para FINAL\n",
    "print(\"\\nEntrenando Linear Regression para final.output.recovery...\")\n",
    "lr_model_final = LinearRegression()\n",
    "lr_model_final.fit(X_train, y_train_final)\n",
    "y_pred_train_lr_final = lr_model_final.predict(X_train)"
   ]
  },
  {
   "cell_type": "markdown",
   "metadata": {},
   "source": [
    "<div class=\"alert alert-block alert-warning\">\n",
    "<b>Celda [15]</b> <a class=\"tocSkip\"></a><br>\n",
    "Has entrenado un modelo de regresión lineal para `final.output.recovery`. Aunque es una buena práctica comparar diferentes modelos, asegúrate de que las suposiciones del modelo lineal se cumplan, como la linealidad y la homocedasticidad, para obtener resultados válidos. Esto es importante para garantizar la precisión de las predicciones.\n",
    "</div>\n"
   ]
  },
  {
   "cell_type": "code",
   "execution_count": 16,
   "metadata": {},
   "outputs": [
    {
     "name": "stdout",
     "output_type": "stream",
     "text": [
      "Entrenando Linear Regression para rougher.output.recovery...\n"
     ]
    }
   ],
   "source": [
    "# Entrenar Linear Regression para ROUGHER\n",
    "print(\"Entrenando Linear Regression para rougher.output.recovery...\")\n",
    "lr_model_rougher = LinearRegression()\n",
    "lr_model_rougher.fit(X_train, y_train_rougher)\n",
    "y_pred_train_lr_rougher = lr_model_rougher.predict(X_train)"
   ]
  },
  {
   "cell_type": "code",
   "execution_count": 17,
   "metadata": {},
   "outputs": [
    {
     "name": "stdout",
     "output_type": "stream",
     "text": [
      "\n",
      "============================================================\n",
      "CÁLCULO DE sMAPE PARA RANDOM FOREST\n",
      "============================================================\n",
      "sMAPE Final (RF): 6.5405%\n",
      "sMAPE Rougher (RF): 7.2345%\n",
      "sMAPE FINAL COMPUESTO (RF): 6.7140%\n",
      "\n",
      "============================================================\n",
      "CÁLCULO DE sMAPE PARA LINEAR REGRESSION\n",
      "============================================================\n"
     ]
    }
   ],
   "source": [
    "print(\"\\n\" + \"=\"*60)\n",
    "print(\"CÁLCULO DE sMAPE PARA RANDOM FOREST\")\n",
    "print(\"=\"*60)\n",
    "\n",
    "# sMAPE individual para Random Forest\n",
    "smape_rf_final = smape(y_train_final, y_pred_train_rf_final)\n",
    "smape_rf_rougher = smape(y_train_rougher, y_pred_train_rf_rougher)\n",
    "smape_final_rf = final_smape(y_train_rougher, y_pred_train_rf_rougher, \n",
    "                            y_train_final, y_pred_train_rf_final)\n",
    "\n",
    "print(f\"sMAPE Final (RF): {smape_rf_final:.4f}%\")\n",
    "print(f\"sMAPE Rougher (RF): {smape_rf_rougher:.4f}%\")\n",
    "print(f\"sMAPE FINAL COMPUESTO (RF): {smape_final_rf:.4f}%\")\n",
    "\n",
    "print(\"\\n\" + \"=\"*60)\n",
    "print(\"CÁLCULO DE sMAPE PARA LINEAR REGRESSION\")\n",
    "print(\"=\"*60)"
   ]
  },
  {
   "cell_type": "markdown",
   "metadata": {},
   "source": [
    "<div class=\"alert alert-block alert-success\">\n",
    "<b>Celda [17]</b> <a class=\"tocSkip\"></a><br>\n",
    "Has hecho un excelente trabajo al calcular el sMAPE para ambos modelos. Esta métrica es particularmente útil para evaluar la precisión de las predicciones en problemas de series temporales y proporciona una buena base para comparar el rendimiento entre los modelos.\n",
    "</div>\n"
   ]
  },
  {
   "cell_type": "code",
   "execution_count": 18,
   "metadata": {},
   "outputs": [
    {
     "name": "stdout",
     "output_type": "stream",
     "text": [
      "sMAPE Final (LR): 10.2615%\n",
      "sMAPE Rougher (LR): 9.7890%\n",
      "sMAPE FINAL COMPUESTO (LR): 10.1433%\n"
     ]
    }
   ],
   "source": [
    "# sMAPE individual para Linear Regression\n",
    "smape_lr_final = smape(y_train_final, y_pred_train_lr_final)\n",
    "smape_lr_rougher = smape(y_train_rougher, y_pred_train_lr_rougher)\n",
    "smape_final_lr = final_smape(y_train_rougher, y_pred_train_lr_rougher, \n",
    "                            y_train_final, y_pred_train_lr_final)\n",
    "\n",
    "print(f\"sMAPE Final (LR): {smape_lr_final:.4f}%\")\n",
    "print(f\"sMAPE Rougher (LR): {smape_lr_rougher:.4f}%\")\n",
    "print(f\"sMAPE FINAL COMPUESTO (LR): {smape_final_lr:.4f}%\")"
   ]
  },
  {
   "cell_type": "code",
   "execution_count": 19,
   "metadata": {},
   "outputs": [
    {
     "name": "stdout",
     "output_type": "stream",
     "text": [
      "\n",
      "============================================================\n",
      "MÉTRICAS ADICIONALES - FINAL OUTPUT\n",
      "============================================================\n",
      "Random Forest - Final:\n",
      "  MAE: 3.5429, RMSE: 5.5431, R²: 0.7639\n",
      "Linear Regression - Final:\n",
      "  MAE: 6.3074, RMSE: 9.9276, R²: 0.2428\n"
     ]
    }
   ],
   "source": [
    "print(\"\\n\" + \"=\"*60)\n",
    "print(\"MÉTRICAS ADICIONALES - FINAL OUTPUT\")\n",
    "print(\"=\"*60)\n",
    "\n",
    "# Random Forest\n",
    "rf_mae_final = mean_absolute_error(y_train_final, y_pred_train_rf_final)\n",
    "rf_rmse_final = mean_squared_error(y_train_final, y_pred_train_rf_final, squared=False)\n",
    "rf_r2_final = r2_score(y_train_final, y_pred_train_rf_final)\n",
    "\n",
    "# Linear Regression\n",
    "lr_mae_final = mean_absolute_error(y_train_final, y_pred_train_lr_final)\n",
    "lr_rmse_final = mean_squared_error(y_train_final, y_pred_train_lr_final, squared=False)\n",
    "lr_r2_final = r2_score(y_train_final, y_pred_train_lr_final)\n",
    "\n",
    "print(\"Random Forest - Final:\")\n",
    "print(f\"  MAE: {rf_mae_final:.4f}, RMSE: {rf_rmse_final:.4f}, R²: {rf_r2_final:.4f}\")\n",
    "\n",
    "print(\"Linear Regression - Final:\")\n",
    "print(f\"  MAE: {lr_mae_final:.4f}, RMSE: {lr_rmse_final:.4f}, R²: {lr_r2_final:.4f}\")"
   ]
  },
  {
   "cell_type": "markdown",
   "metadata": {},
   "source": [
    "<div class=\"alert alert-block alert-success\">\n",
    "<b>Celda [19]</b> <a class=\"tocSkip\"></a><br>\n",
    "Has hecho un gran trabajo al calcular métricas adicionales como MAE, RMSE y R² para ambos modelos. Estas métricas proporcionan una visión más completa del rendimiento de los modelos y son esenciales para interpretar los resultados de manera más detallada.\n",
    "</div>\n"
   ]
  },
  {
   "cell_type": "code",
   "execution_count": 20,
   "metadata": {},
   "outputs": [
    {
     "name": "stdout",
     "output_type": "stream",
     "text": [
      "\n",
      "Prediciendo en conjunto de prueba...\n",
      "\n",
      "Archivos de submission generados:\n",
      "- submission_rf.csv (Random Forest)\n",
      "- submission_lr.csv (Linear Regression)\n"
     ]
    }
   ],
   "source": [
    "print(\"\\nPrediciendo en conjunto de prueba...\")\n",
    "\n",
    "# Predecir con ambos modelos para ambas targets\n",
    "y_pred_test_rf_final = rf_model_final.predict(X_test)\n",
    "y_pred_test_rf_rougher = rf_model_rougher.predict(X_test)\n",
    "\n",
    "y_pred_test_lr_final = lr_model_final.predict(X_test)\n",
    "y_pred_test_lr_rougher = lr_model_rougher.predict(X_test)\n",
    "\n",
    "# Crear archivos de submission\n",
    "submission_rf = pd.DataFrame({\n",
    "    \"id\": df_test.index,\n",
    "    \"rougher.output.recovery\": y_pred_test_rf_rougher,\n",
    "    \"final.output.recovery\": y_pred_test_rf_final\n",
    "})\n",
    "\n",
    "submission_lr = pd.DataFrame({\n",
    "    \"id\": df_test.index,\n",
    "    \"rougher.output.recovery\": y_pred_test_lr_rougher,\n",
    "    \"final.output.recovery\": y_pred_test_lr_final\n",
    "})\n",
    "\n",
    "submission_rf.to_csv(\"submission_rf.csv\", index=False)\n",
    "submission_lr.to_csv(\"submission_lr.csv\", index=False)\n",
    "\n",
    "print(\"\\nArchivos de submission generados:\")\n",
    "print(\"- submission_rf.csv (Random Forest)\")\n",
    "print(\"- submission_lr.csv (Linear Regression)\")"
   ]
  },
  {
   "cell_type": "code",
   "execution_count": 21,
   "metadata": {},
   "outputs": [
    {
     "name": "stdout",
     "output_type": "stream",
     "text": [
      "\n",
      "============================================================\n",
      "CONCLUSIÓN - ¿QUÉ MODELO ES MEJOR?\n",
      "============================================================\n",
      "sMAPE Final Compuesto:\n",
      "  Random Forest: 6.7140%\n",
      "  Linear Regression: 10.1433%\n",
      "Random Forest es el MEJOR modelo (sMAPE más bajo)\n",
      "Recomendación: Usar submission_rf.csv\n",
      "\n",
      "============================================================\n",
      "DESGLOSE DETALLADO\n",
      "============================================================\n",
      "Random Forest:\n",
      "  - sMAPE Rougher: 7.2345% (25% peso)\n",
      "  - sMAPE Final: 6.5405% (75% peso)\n",
      "  - Total: 6.7140%\n",
      "Linear Regression:\n",
      "  - sMAPE Rougher: 9.7890% (25% peso)\n",
      "  - sMAPE Final: 10.2615% (75% peso)\n",
      "  - Total: 10.1433%\n"
     ]
    }
   ],
   "source": [
    "print(\"\\n\" + \"=\"*60)\n",
    "print(\"CONCLUSIÓN - ¿QUÉ MODELO ES MEJOR?\")\n",
    "print(\"=\"*60)\n",
    "\n",
    "print(f\"sMAPE Final Compuesto:\")\n",
    "print(f\"  Random Forest: {smape_final_rf:.4f}%\")\n",
    "print(f\"  Linear Regression: {smape_final_lr:.4f}%\")\n",
    "\n",
    "if smape_final_rf < smape_final_lr:\n",
    "    print(\"Random Forest es el MEJOR modelo (sMAPE más bajo)\")\n",
    "    print(\"Recomendación: Usar submission_rf.csv\")\n",
    "elif smape_final_lr < smape_final_rf:\n",
    "    print(\"Linear Regression es el MEJOR modelo (sMAPE más bajo)\")\n",
    "    print(\"Recomendación: Usar submission_lr.csv\")\n",
    "else:\n",
    "    print(\"  Ambos modelos tienen el mismo sMAPE\")\n",
    "\n",
    "print(\"\\n\" + \"=\"*60)\n",
    "print(\"DESGLOSE DETALLADO\")\n",
    "print(\"=\"*60)\n",
    "print(\"Random Forest:\")\n",
    "print(f\"  - sMAPE Rougher: {smape_rf_rougher:.4f}% (25% peso)\")\n",
    "print(f\"  - sMAPE Final: {smape_rf_final:.4f}% (75% peso)\")\n",
    "print(f\"  - Total: {smape_final_rf:.4f}%\")\n",
    "\n",
    "print(\"Linear Regression:\")\n",
    "print(f\"  - sMAPE Rougher: {smape_lr_rougher:.4f}% (25% peso)\")\n",
    "print(f\"  - sMAPE Final: {smape_lr_final:.4f}% (75% peso)\")\n",
    "print(f\"  - Total: {smape_final_lr:.4f}%\")"
   ]
  },
  {
   "cell_type": "markdown",
   "metadata": {},
   "source": [
    "<div class=\"alert alert-block alert-warning\">\n",
    "<b>Celda [21]</b> <a class=\"tocSkip\"></a><br>\n",
    "Tu análisis de los resultados finales es claro y bien estructurado. Sería beneficioso incluir una discusión sobre por qué el modelo de Random Forest podría estar funcionando mejor que la regresión lineal y qué implicaciones tiene esto para el proceso de recuperación de oro. Esto enriquecería el análisis y proporcionaría un contexto más profundo sobre el rendimiento de los modelos.\n",
    "</div>\n"
   ]
  },
  {
   "cell_type": "code",
   "execution_count": 22,
   "metadata": {},
   "outputs": [
    {
     "ename": "NameError",
     "evalue": "name 'model' is not defined",
     "output_type": "error",
     "traceback": [
      "\u001b[0;31m---------------------------------------------------------------------------\u001b[0m",
      "\u001b[0;31mNameError\u001b[0m                                 Traceback (most recent call last)",
      "Cell \u001b[0;32mIn[22], line 2\u001b[0m\n\u001b[1;32m      1\u001b[0m tscv \u001b[38;5;241m=\u001b[39m TimeSeriesSplit(n_splits\u001b[38;5;241m=\u001b[39m\u001b[38;5;241m3\u001b[39m)\n\u001b[0;32m----> 2\u001b[0m scores \u001b[38;5;241m=\u001b[39m cross_val_score(\u001b[43mmodel\u001b[49m, X_train, y_train, cv\u001b[38;5;241m=\u001b[39mtscv, scoring\u001b[38;5;241m=\u001b[39m\u001b[38;5;124m'\u001b[39m\u001b[38;5;124mneg_mean_absolute_error\u001b[39m\u001b[38;5;124m'\u001b[39m)\n\u001b[1;32m      3\u001b[0m \u001b[38;5;28mprint\u001b[39m(\u001b[38;5;124mf\u001b[39m\u001b[38;5;124m\"\u001b[39m\u001b[38;5;124mMAE Validación Cruzada: \u001b[39m\u001b[38;5;132;01m{\u001b[39;00m\u001b[38;5;241m-\u001b[39mscores\u001b[38;5;241m.\u001b[39mmean()\u001b[38;5;132;01m:\u001b[39;00m\u001b[38;5;124m.4f\u001b[39m\u001b[38;5;132;01m}\u001b[39;00m\u001b[38;5;124m (+/- \u001b[39m\u001b[38;5;132;01m{\u001b[39;00mscores\u001b[38;5;241m.\u001b[39mstd()\u001b[38;5;241m*\u001b[39m\u001b[38;5;241m2\u001b[39m\u001b[38;5;132;01m:\u001b[39;00m\u001b[38;5;124m.4f\u001b[39m\u001b[38;5;132;01m}\u001b[39;00m\u001b[38;5;124m)\u001b[39m\u001b[38;5;124m\"\u001b[39m)\n",
      "\u001b[0;31mNameError\u001b[0m: name 'model' is not defined"
     ]
    }
   ],
   "source": [
    "tscv = TimeSeriesSplit(n_splits=3)\n",
    "scores = cross_val_score(model, X_train, y_train, cv=tscv, scoring='neg_mean_absolute_error')\n",
    "print(f\"MAE Validación Cruzada: {-scores.mean():.4f} (+/- {scores.std()*2:.4f})\")"
   ]
  },
  {
   "cell_type": "markdown",
   "metadata": {},
   "source": [
    "<div class=\"alert alert-block alert-warning\">\n",
    "<b>Celda [22]</b> <a class=\"tocSkip\"></a><br>\n",
    "Es importante que definas el modelo que estás utilizando en la validación cruzada, ya que actualmente el código no especifica qué modelo se está evaluando. Asegúrate de asignar el modelo correcto a la variable `model` antes de ejecutar `cross_val_score` para obtener resultados precisos y relevantes.\n",
    "</div>\n"
   ]
  },
  {
   "cell_type": "markdown",
   "metadata": {},
   "source": [
    "Conclusion final:\n",
    "\n",
    "El mejor modelo para este proyecto es el Random Forest con un 6.71% de sMAPE contra el 10.41% de la regresion Lineal. Esto representa una mejora de 34% en la metrica del objetivo, la unica contra es que el modelo Random Forest si note que tardaba mas en cargar que la regresion lineal lo cual es normal, aun asi sigue siendo mejor modelo.\n",
    "\n",
    "el Oro Au aumenta de 7.17% a 17.41% en la concentracion\n",
    "la PLata Ag aumenta de 7.83% a 10.58% en la concentracion\n",
    "el Plomo PB aumenta de 3.22% a 6.88% en la concentracion\n",
    "el proceso de concentracion funciona\n",
    "\n",
    "con la validacion cruzada podemos ver que el RandomForest tiene una variacion de entre 5.82% a 11.74% un rango aceptable"
   ]
  },
  {
   "cell_type": "markdown",
   "metadata": {},
   "source": [
    "<div class=\"alert alert-block alert-success\">\n",
    "<b>Comentario final</b> <a class=\"tocSkip\"></a><br>\n",
    "¡Muy buen trabajo, Christian! A lo largo del proyecto mostraste fortalezas muy claras:<br><br>\n",
    "• Realizaste una correcta carga y exploración inicial de los datos, identificando correctamente los tipos de datos y valores nulos.<br>\n",
    "• Calculaste y analizaste las concentraciones promedio de metales en diferentes etapas del proceso, lo cual es crucial para entender el flujo del proceso.<br>\n",
    "• Implementaste una función para calcular la recuperación, mostrando un buen entendimiento de las fórmulas necesarias en el contexto del problema.<br>\n",
    "• Utilizaste correctamente la prueba de Kolmogorov-Smirnov para comparar distribuciones entre conjuntos de datos.<br>\n",
    "• Manejaste adecuadamente los valores infinitos y faltantes en tus datasets.<br>\n",
    "• Seleccionaste características de manera efectiva, evitando data leakage.<br>\n",
    "• Entrenaste y comparaste diferentes modelos de manera estructurada, utilizando métricas adecuadas para evaluar su rendimiento.<br>\n",
    "• Calculaste el sMAPE y otras métricas adicionales para evaluar la precisión de tus modelos de predicción.<br>\n",
    "• Generaste archivos de submission correctamente, asegurando que los resultados puedan ser evaluados externamente.<br>\n",
    "• Realizaste un análisis detallado de los resultados, identificando el modelo más efectivo para el problema en cuestión.<br>\n",
    "¡Felicidades!\n",
    "</div>\n"
   ]
  },
  {
   "cell_type": "code",
   "execution_count": null,
   "metadata": {},
   "outputs": [],
   "source": []
  }
 ],
 "metadata": {
  "kernelspec": {
   "display_name": "Python 3 (ipykernel)",
   "language": "python",
   "name": "python3"
  },
  "language_info": {
   "codemirror_mode": {
    "name": "ipython",
    "version": 3
   },
   "file_extension": ".py",
   "mimetype": "text/x-python",
   "name": "python",
   "nbconvert_exporter": "python",
   "pygments_lexer": "ipython3",
   "version": "3.9.23"
  }
 },
 "nbformat": 4,
 "nbformat_minor": 4
}
